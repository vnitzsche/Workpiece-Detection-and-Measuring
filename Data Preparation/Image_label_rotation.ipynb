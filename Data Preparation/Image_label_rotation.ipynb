{
 "cells": [
  {
   "cell_type": "code",
   "execution_count": 28,
   "metadata": {},
   "outputs": [
    {
     "name": "stdout",
     "output_type": "stream",
     "text": [
      "()\n"
     ]
    },
    {
     "ename": "ValueError",
     "evalue": "not enough values to unpack (expected 2, got 0)",
     "output_type": "error",
     "traceback": [
      "\u001b[1;31m---------------------------------------------------------------------------\u001b[0m",
      "\u001b[1;31mValueError\u001b[0m                                Traceback (most recent call last)",
      "Cell \u001b[1;32mIn[28], line 22\u001b[0m\n\u001b[0;32m     20\u001b[0m image \u001b[38;5;241m=\u001b[39m np\u001b[38;5;241m.\u001b[39marray(image)\n\u001b[0;32m     21\u001b[0m \u001b[38;5;28mprint\u001b[39m(image\u001b[38;5;241m.\u001b[39mshape)\n\u001b[1;32m---> 22\u001b[0m h, w \u001b[38;5;241m=\u001b[39m image\u001b[38;5;241m.\u001b[39mshape[:\u001b[38;5;241m2\u001b[39m]\n\u001b[0;32m     23\u001b[0m center \u001b[38;5;241m=\u001b[39m (w \u001b[38;5;241m/\u001b[39m \u001b[38;5;241m2\u001b[39m, h \u001b[38;5;241m/\u001b[39m \u001b[38;5;241m2\u001b[39m)\n\u001b[0;32m     25\u001b[0m \u001b[38;5;66;03m# Define rotation parameters\u001b[39;00m\n",
      "\u001b[1;31mValueError\u001b[0m: not enough values to unpack (expected 2, got 0)"
     ]
    }
   ],
   "source": [
    "import labelme\n",
    "import json\n",
    "import numpy as np\n",
    "from PIL import Image\n",
    "import matplotlib.pyplot as plt\n",
    "\n",
    "\n",
    "# Load JSON file\n",
    "json_path = \"./Pictures/1.json\"\n",
    "with open(json_path, \"r\") as f:\n",
    "    label_data = json.load(f)\n",
    "\n",
    "# Load image\n",
    "image_path = \"./Pictures/1.jpg\"\n",
    "\n",
    "import cv2\n",
    "\n",
    "image_path = \"/mnt/data/image.png\"\n",
    "image = cv2.imread(image_path)\n",
    "image = np.array(image)\n",
    "print(image.shape)\n",
    "h, w = image.shape[:2]\n",
    "center = (w / 2, h / 2)\n",
    "\n",
    "# Define rotation parameters\n",
    "angle = 180\n",
    "\n",
    "# Perform rotation using PIL\n",
    "rotated_image = image.rotate(angle, expand=False)\n",
    "\n",
    "# Update annotation points\n",
    "rotated_shapes = []\n",
    "for shape in label_data[\"shapes\"]:\n",
    "    points = np.array(shape[\"points\"])  # Extract points\n",
    "    # Convert to homogeneous coordinates\n",
    "    points = np.hstack([points, np.ones((points.shape[0], 1))])\n",
    "\n",
    "    # Get the rotation matrix\n",
    "    rotation_center = (image.size[0] / 2, image.size[1] / 2)\n",
    "    angle_rad = np.deg2rad(-angle-90)\n",
    "    rotation_matrix = np.array([\n",
    "        [np.cos(angle_rad), -np.sin(angle_rad), 0],\n",
    "        [np.sin(angle_rad), np.cos(angle_rad), 0],\n",
    "        [0, 0, 1]\n",
    "    ])\n",
    "\n",
    "    # Apply rotation\n",
    "    translation_to_center = np.array([\n",
    "        [1, 0, -rotation_center[0]],\n",
    "        [0, 1, -rotation_center[1]],\n",
    "        [0, 0, 1]\n",
    "    ])\n",
    "    translation_back = np.array([\n",
    "        [1, 0, rotation_center[0]],\n",
    "        [0, 1, rotation_center[1]],\n",
    "        [0, 0, 1]\n",
    "    ])\n",
    "    transformation = translation_back @ rotation_matrix  @ translation_to_center\n",
    "    rotated_points = (transformation @ points.T).T\n",
    "\n",
    "    # Update shapes with new points\n",
    "    shape[\"points\"] = rotated_points[:, :2].tolist()\n",
    "    rotated_shapes.append(shape)\n",
    "\n",
    "# Update JSON with rotated shapes\n",
    "label_data[\"shapes\"] = rotated_shapes\n",
    "\n",
    "# Save rotated image and JSON\n",
    "rotated_image_path = \"rotated_image.jpg\"\n",
    "rotated_json_path = \"rotated_labels.json\"\n",
    "\n",
    "rotated_image.save(rotated_image_path)\n",
    "label_data[\"imagePath\"] = rotated_image_path\n",
    "with open(rotated_json_path, \"w\") as f:\n",
    "    json.dump(label_data, f)\n",
    "\n",
    "# Visualization (optional)\n",
    "def visualize_rotated(image, shapes):\n",
    "    plt.imshow(image)\n",
    "    for shape in shapes:\n",
    "        points = np.array(shape[\"points\"])\n",
    "        plt.plot(*zip(*(points.tolist() + [points[0].tolist()])), c=\"red\")\n",
    "    plt.axis(\"off\")\n",
    "    plt.show()\n",
    "\n",
    "# Show rotated image with annotations\n",
    "visualize_rotated(rotated_image, rotated_shapes)"
   ]
  },
  {
   "cell_type": "code",
   "execution_count": null,
   "metadata": {},
   "outputs": [],
   "source": []
  }
 ],
 "metadata": {
  "kernelspec": {
   "display_name": "labelme",
   "language": "python",
   "name": "python3"
  },
  "language_info": {
   "codemirror_mode": {
    "name": "ipython",
    "version": 3
   },
   "file_extension": ".py",
   "mimetype": "text/x-python",
   "name": "python",
   "nbconvert_exporter": "python",
   "pygments_lexer": "ipython3",
   "version": "3.13.1"
  }
 },
 "nbformat": 4,
 "nbformat_minor": 2
}
