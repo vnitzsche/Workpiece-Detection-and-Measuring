{
 "cells": [
  {
   "cell_type": "markdown",
   "metadata": {},
   "source": [
    "First test with Mask R CNN\n",
    "In the first part I just try to get the model running.\n",
    "\n",
    "In the following part I want to retrain the model on custom Shapes i definded. After that I am evaluating the precision of the model. \n",
    "\n",
    "The detected shapes from the model can then be measured with opencv."
   ]
  },
  {
   "cell_type": "code",
   "execution_count": null,
   "metadata": {},
   "outputs": [],
   "source": [
    "import detectron2\n",
    "from detectron2.engine import DefaultPredictor\n",
    "from detectron2.config import get_cfg\n",
    "from detectron2.utils.visualizer import Visualizer\n",
    "import cv2\n",
    "\n",
    "# Load pre-trained model\n",
    "cfg = get_cfg()\n",
    "cfg.merge_from_file(\"detectron2/configs/COCO-InstanceSegmentation/mask_rcnn_R_50_FPN_3x.yaml\")\n",
    "cfg.MODEL.WEIGHTS = \"detectron2://COCO-InstanceSegmentation/mask_rcnn_R_50_FPN_3x/137849600/model_final_f10217.pkl\"\n",
    "predictor = DefaultPredictor(cfg)\n",
    "\n",
    "# Load an image\n",
    "image = cv2.imread(\"image.jpg\")\n",
    "outputs = predictor(image)\n",
    "\n",
    "# Display results\n",
    "v = Visualizer(image[:, :, ::-1], metadata={})\n",
    "result = v.draw_instance_predictions(outputs[\"instances\"].to(\"cpu\"))\n",
    "cv2.imshow(\"Result\", result.get_image()[:, :, ::-1])\n",
    "cv2.waitKey(0)\n"
   ]
  }
 ],
 "metadata": {
  "kernelspec": {
   "display_name": "TorchvisionClassification",
   "language": "python",
   "name": "python3"
  },
  "language_info": {
   "name": "python",
   "version": "3.8.20"
  }
 },
 "nbformat": 4,
 "nbformat_minor": 2
}
